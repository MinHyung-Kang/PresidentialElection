{
 "cells": [
  {
   "cell_type": "code",
   "execution_count": 3,
   "metadata": {
    "collapsed": false
   },
   "outputs": [],
   "source": [
    "#from vaderSentiment import sentiment as vaderSentiment \n",
    "import sys\n",
    "from vaderSentiment.vaderSentiment import sentiment as vaderSentiment \n",
    "\n",
    "sentences = ['I believe in Candidate', 'Candidate will be a great president', 'Candidate spoke at Iowa today', 'Candidate ate lunch with people', \n",
    "             'I really do not want Candidate to be the president', 'I hate the Candidate; that person is very dishonest']\n",
    "for i in range(len(sentences)):\n",
    "    result = (vaderSentiment(sentences[i]))\n",
    "    print(result)\n",
    "\n",
    "\n",
    "\n"
   ]
  },
  {
   "cell_type": "code",
   "execution_count": null,
   "metadata": {
    "collapsed": false
   },
   "outputs": [],
   "source": [
    "#Indexer that can be used to get column by name\n",
    "header = labels = ['created_at', 'tweet_id', 'retweet_count', 'reply_user_id', 'reply_tweet_id', 'text', 'tags', 'ids', 'names',\n",
    "    'user_id', 'name', 'screen_name', 'friends_count', 'followers_count', 'statuses_count',   \n",
    "    'ori_created_at', 'ori_tweet_id', 'ori_retweet_count', 'ori_user_id', \n",
    "    'ori_name', 'ori_screen_name', 'ori_friends_count', 'ori_followers_count', 'ori_statuses_count']\n",
    "\n",
    "indexer = {}\n",
    "for i in range(len(header)):\n",
    "    indexer[header[i]] = i \n",
    "print indexer"
   ]
  },
  {
   "cell_type": "code",
   "execution_count": 11,
   "metadata": {
    "collapsed": true
   },
   "outputs": [],
   "source": [
    "import sys\n",
    "reload(sys)\n",
    "sys.setdefaultencoding('utf-8')"
   ]
  },
  {
   "cell_type": "markdown",
   "metadata": {},
   "source": [
    "#### Get text per user"
   ]
  },
  {
   "cell_type": "code",
   "execution_count": null,
   "metadata": {
    "collapsed": false
   },
   "outputs": [],
   "source": [
    "import codecs\n",
    "import unicodecsv as csv\n",
    "import os\n",
    "\n",
    "names = ['HillaryClinton','BernieSanders','DonaldTrump']\n",
    "fileType = 'DataUserConverted2'\n",
    "\n",
    "for i in range(len(names)):\n",
    "    fileName = './FinalData/%s%s.csv' %(names[i],fileType)\n",
    "    fileOut = './FinalData/%s%s.csv' %(names[i],'UserTexts')\n",
    "    \n",
    "    import csv\n",
    "    with open(fileName, 'rb') as f:\n",
    "        reader = csv.reader(f)\n",
    "        data= list(reader)\n",
    "    \n",
    "    tweets = {}\n",
    "    counter= 0\n",
    "    with open(fileOut,'wb') as fp:    \n",
    "        a = csv.writer(fp,delimiter=',')\n",
    "        for i in range(len(data)):\n",
    "            if (counter % 10000 ==0) :\n",
    "                print counter\n",
    "            counter += 1\n",
    "            a.writerow([data[i][indexer['user_id']],data[i][indexer['text']]])\n",
    "            \n",
    "            #Process retweets\n",
    "            if (int(data[i][indexer['ori_user_id']])!= -1) : \n",
    "                id = data[i][indexer['ori_tweet_id']]\n",
    "                if (id not in tweets.keys()):\n",
    "                    tweets[id] = 0\n",
    "                    a.writerow([data[i][indexer['ori_user_id']],data[i][indexer['text']]])\n",
    "                    \n",
    "                        \n",
    "            "
   ]
  },
  {
   "cell_type": "code",
   "execution_count": null,
   "metadata": {
    "collapsed": false
   },
   "outputs": [],
   "source": [
    "for i in range(10):\n",
    "    pos_score, neg_score = senti_classifier.polarity_scores([data[i][5]])\n",
    "    print pos_score, neg_score"
   ]
  },
  {
   "cell_type": "markdown",
   "metadata": {},
   "source": [
    "#### Get sentiment per tweet (Reduced)"
   ]
  },
  {
   "cell_type": "code",
   "execution_count": null,
   "metadata": {
    "collapsed": false
   },
   "outputs": [],
   "source": [
    "len(data)"
   ]
  },
  {
   "cell_type": "code",
   "execution_count": 5,
   "metadata": {
    "collapsed": false
   },
   "outputs": [],
   "source": [
    "import codecs\n",
    "import unicodecsv as csv\n",
    "import os\n",
    "\n",
    "names = ['HillaryClinton','BernieSanders','DonaldTrump']\n",
    "fileType = 'UserTexts'\n",
    "\n",
    "for i in range(len(names)):\n",
    "    fileName = './FinalData/%s%s.csv' %(names[i],fileType)\n",
    "    fileSymmetry = './FinalData/%s%s.csv' %(names[i],'EdgesFrequencyReducedSymmetric')\n",
    "    fileOut = './FinalData/%s%s.csv' %(names[i],'UserSentimentPerTweet')\n",
    "    \n",
    "    print 'Processing %s' %(names[i])\n",
    "    \n",
    "    with open(fileName, 'rb') as f:\n",
    "        reader = csv.reader(f)\n",
    "        data= list(reader)\n",
    "        \n",
    "    print ('User Texts Saved')\n",
    "    \n",
    "    with open(fileSymmetry, 'rb') as f:\n",
    "        reader = csv.reader(f)\n",
    "        dataEdges = list(reader)\n",
    "        \n",
    "    print 'Edges saved'\n",
    "    \n",
    "    userEdges = set()\n",
    "    users = {}\n",
    "    \n",
    "    for i in range(len(dataEdges)):\n",
    "        userEdges.add(dataEdges[i][0])\n",
    "        userEdges.add(dataEdges[i][1])\n",
    "    \n",
    "    print 'Set of edges created'\n",
    "    \n",
    "    print 'Processing and adding to dictionary'\n",
    "    counter= 0\n",
    "    for i in range(len(data)):\n",
    "    #for i in range(100):\n",
    "        if (counter % 10000 ==0) :\n",
    "            print counter\n",
    "        \n",
    "        #Include this text to dictionary if needed\n",
    "        counter += 1\n",
    "        user = data[i][0]\n",
    "        if (user in userEdges):\n",
    "            text = data[i][1]\n",
    "            if (user in users.keys()):\n",
    "                users[user].append(text)\n",
    "            else : \n",
    "                users[user] = [text]\n",
    "    print 'Dictionary Created. Writing to File'\n",
    "    \n",
    "    counter = 0\n",
    "    with open(fileOut,'wb') as fp:    \n",
    "        a = csv.writer(fp,delimiter=',')\n",
    "        for user in users.keys():\n",
    "            if (counter % 1000 ==0) :\n",
    "                print counter\n",
    "            counter += 1\n",
    "            for text in users[user]:\n",
    "                result = (vaderSentiment(text))\n",
    "                neg = result['neg']\n",
    "                neu = result['neu']\n",
    "                pos = result['pos']\n",
    "                compound = result['compound']\n",
    "                a.writerow([user,neg,neu,pos,compound])\n",
    "                \n",
    "    print '%s finished' %(names[i])\n",
    "                    \n",
    "                        \n",
    "            "
   ]
  },
  {
   "cell_type": "markdown",
   "metadata": {},
   "source": [
    "#### Get Sentiment per tweet, all of them"
   ]
  },
  {
   "cell_type": "code",
   "execution_count": 12,
   "metadata": {
    "collapsed": false
   },
   "outputs": [],
   "source": [
    "import codecs\n",
    "import unicodecsv as csv\n",
    "import os\n",
    "\n",
    "names = ['HillaryClinton','BernieSanders','DonaldTrump']\n",
    "fileType = 'UserTexts'\n",
    "\n",
    "for i in range(len(names)):\n",
    "    fileName = './FinalData/%s%s.csv' %(names[i],fileType)\n",
    "    fileOut = './FinalData/%s%s.csv' %(names[i],'UserSentimentPerTweetFull')\n",
    "    \n",
    "    print 'Processing %s' %(names[i])\n",
    "    \n",
    "    with open(fileName, 'rb') as f:\n",
    "        reader = csv.reader(f)\n",
    "        data= list(reader)\n",
    "        \n",
    "    print ('User Texts Saved. Start Analyzing')\n",
    "    \n",
    "    counter = 0\n",
    "    with open(fileOut,'wb') as fp:    \n",
    "        a = csv.writer(fp,delimiter=',')\n",
    "        for index in range(len(data)):\n",
    "            if (counter % 1000 ==0) :\n",
    "                print counter\n",
    "            counter += 1\n",
    "            user = data[index][0]\n",
    "            result = (vaderSentiment(data[index][1]))\n",
    "            neg = result['neg']\n",
    "            neu = result['neu']\n",
    "            pos = result['pos']\n",
    "            compound = result['compound']\n",
    "            a.writerow([user,neg,neu,pos,compound])\n",
    "                \n",
    "    print '%s finished' %(names[i])\n",
    "                    \n",
    "                        \n",
    "            "
   ]
  },
  {
   "cell_type": "markdown",
   "metadata": {},
   "source": [
    "#### Get Sentiment per user"
   ]
  },
  {
   "cell_type": "code",
   "execution_count": 13,
   "metadata": {
    "collapsed": false
   },
   "outputs": [],
   "source": [
    "import codecs\n",
    "import unicodecsv as csv\n",
    "import os\n",
    "\n",
    "names =['HillaryClinton','BernieSanders','DonaldTrump']\n",
    "fileFromName = 'UserSentimentPerTweetFull'\n",
    "fileToName = 'UserSentimentFull'\n",
    "\n",
    "\n",
    "for i in range(len(names)):\n",
    "    fileFrom = './FinalData/%s%s.csv' %(names[i],fileFromName)\n",
    "    fileTo = './FinalData/%s%s.csv' %(names[i],fileToName)\n",
    "    \n",
    "    print 'Processing %s' %(names[i])\n",
    "    \n",
    "    with open(fileFrom, 'rb') as f:\n",
    "        reader = csv.reader(f)\n",
    "        data= list(reader)\n",
    "    data_sorted = sorted(data)\n",
    "        \n",
    "    counter = 0\n",
    "    userId = -1\n",
    "    neg = 0;    neu = 0;    pos = 0; compound = 0;\n",
    "    \n",
    "    with open(fileTo,'wb') as fp:    \n",
    "        a = csv.writer(fp,delimiter=',')\n",
    "        for i in range(len(data_sorted)):\n",
    "            data = data_sorted[i]\n",
    "            counter += 1\n",
    "            if(userId != data[0]):\n",
    "                if(userId != -1):\n",
    "                    a.writerow([userId, \"{:.4f}\".format(neg/counter), \"{:.4f}\".format(neu/counter), \"{:.4f}\".format(pos/counter), \"{:.4f}\".format(compound/counter)])\n",
    "                userId = data[0]\n",
    "                neg = float(data[1])\n",
    "                neu = float(data[2])\n",
    "                pos = float(data[3])\n",
    "                compound = float(data[4])\n",
    "                counter = 0\n",
    "            else:\n",
    "                neg += float(data[1])\n",
    "                neu += float(data[2])\n",
    "                pos += float(data[3])\n",
    "                compound += float(data[4])"
   ]
  },
  {
   "cell_type": "code",
   "execution_count": 16,
   "metadata": {
    "collapsed": false
   },
   "outputs": [
    {
     "data": {
      "text/plain": [
       "'1.2346'"
      ]
     },
     "execution_count": 16,
     "metadata": {},
     "output_type": "execute_result"
    }
   ],
   "source": [
    "\"{:.4f}\".format(1.23456)"
   ]
  },
  {
   "cell_type": "code",
   "execution_count": 14,
   "metadata": {
    "collapsed": false
   },
   "outputs": [],
   "source": [
    "# Get sentiment average per candidate\n",
    "\n",
    "import codecs\n",
    "import unicodecsv as csv\n",
    "import os\n",
    "\n",
    "names = ['HillaryClinton','BernieSanders','DonaldTrump']\n",
    "fileReadName = 'UserSentimentFull'\n",
    "\n",
    "\n",
    "for i in range(len(names)):\n",
    "    fileRead = './FinalData/%s%s.csv' %(names[i],fileReadName)\n",
    "    \n",
    "    print 'Processing %s' %(names[i])\n",
    "    \n",
    "    with open(fileRead, 'rb') as f:\n",
    "        reader = csv.reader(f)\n",
    "        data= list(reader)\n",
    "        \n",
    "    neg = 0;    neu = 0;    pos = 0; compound = 0;\n",
    "    counts ={}\n",
    "    counts['neg'] = 0\n",
    "    counts['neu'] = 0\n",
    "    counts['pos'] = 0\n",
    "    \n",
    "    countsBinary ={}\n",
    "    countsBinary['neg'] =0\n",
    "    countsBinary['pos'] = 0\n",
    "    for i in range(len(data)):\n",
    "        row = data[i]\n",
    "        neg += float(row[1])\n",
    "        neu += float(row[2])\n",
    "        pos += float(row[3])\n",
    "        compound += float(row[4])\n",
    "        \n",
    "        maxTrait = max(float(row[1]),float(row[2]),float(row[3]))\n",
    "        if (maxTrait == float(row[1])):\n",
    "            counts['neg'] += 1\n",
    "        elif (maxTrait == float(row[3])):\n",
    "            counts['pos'] += 1\n",
    "        else : \n",
    "            counts['neu'] += 1\n",
    "            \n",
    "        #Binary\n",
    "        if(float(row[1]) > float(row[3])):\n",
    "            countsBinary['neg'] += 1\n",
    "        elif(float(row[1]) < float(row[3])):\n",
    "            countsBinary['pos'] += 1\n",
    "        \n",
    "    print (\"neg : %s neu : %s pos : %s compound : %s\") %(\"{:.4f}\".format(neg), \"{:.4f}\".format(neu), \"{:.4f}\".format(pos), \"{:.4f}\".format(compound))\n",
    "    n = len(data)\n",
    "    neg /= n; neu /= n; pos /= n; compound /= n;\n",
    "    print (\"Proportion : neg : %s neu : %s pos : %s compound : %s\") %(\"{:.4f}\".format(neg), \"{:.4f}\".format(neu), \"{:.4f}\".format(pos), \"{:.4f}\".format(compound))\n",
    "    print (\"Tri-class : neg : %d neu : %s pos : %s\") %(counts['neg'],counts['neu'],counts['pos'])\n",
    "    print (\"Binary : neg : %d pos : %s\") %(countsBinary['neg'],countsBinary['pos'])\n",
    "    "
   ]
  },
  {
   "cell_type": "markdown",
   "metadata": {
    "collapsed": true
   },
   "source": [
    "#### Get reduced proprotion of users"
   ]
  },
  {
   "cell_type": "code",
   "execution_count": 7,
   "metadata": {
    "collapsed": false
   },
   "outputs": [
    {
     "name": "stdout",
     "output_type": "stream",
     "text": [
      "Processing HillaryClinton\n",
      "Dict saved\n",
      "Sentiment Read\n",
      "Processing BernieSanders\n",
      "Dict saved\n",
      "Sentiment Read\n",
      "Processing DonaldTrump\n",
      "Dict saved\n",
      "Sentiment Read\n"
     ]
    }
   ],
   "source": [
    "import codecs\n",
    "import unicodecsv as csv\n",
    "import os\n",
    "\n",
    "names = ['HillaryClinton','BernieSanders','DonaldTrump']\n",
    "fileReadName = 'EdgesFrequencyReducedSymmetric'\n",
    "fileDictName = 'EdgesFrequencyReducedSymmetricIndex'\n",
    "fileWriteName = 'SentimentReducedLabelFinal'\n",
    "fileSentimentName = 'UserSentimentFull'\n",
    "\n",
    "\n",
    "for i in range(len(names)):\n",
    "    fileRead = './FinalData/%s%s.csv' %(names[i],fileReadName)\n",
    "    fileDict = './FinalData/%s%s.csv' %(names[i],fileDictName)\n",
    "    fileWrite = './FinalData/%s%s.csv' %(names[i],fileWriteName)\n",
    "    fileSentiment = './FinalData/%s%s.csv' %(names[i],fileSentimentName)\n",
    "    \n",
    "    print 'Processing %s' %(names[i])\n",
    "    \n",
    "    with open(fileRead, 'rb') as f:\n",
    "        reader = csv.reader(f)\n",
    "        data= list(reader)\n",
    "    \n",
    "    users = set()\n",
    "    for n in range(len(data)):\n",
    "        users.add(data[n][0])\n",
    "        users.add(data[n][1])\n",
    "        \n",
    "    # Save dictionary\n",
    "    with open(fileDict, 'rb') as f:\n",
    "        reader = csv.reader(f)\n",
    "        data= list(reader)\n",
    "        \n",
    "    userConvert = {}\n",
    "    for n in range(len(data)):\n",
    "        userConvert[data[n][0]] = data[n][1]\n",
    "        \n",
    "    print 'Dict saved'\n",
    "        \n",
    "    with open(fileSentiment, 'rb') as f:\n",
    "        reader = csv.reader(f)\n",
    "        sentiments = list(reader)         \n",
    "        \n",
    "    print 'Sentiment Read'\n",
    "\n",
    "        \n",
    "    with open(fileWrite,'wb') as fp:    \n",
    "        a = csv.writer(fp,delimiter=',')\n",
    "        \n",
    "        for n in range(len(sentiments)):\n",
    "            if(sentiments[n][0] in users):\n",
    "                newUser = userConvert[sentiments[n][0]]\n",
    "                neg = sentiments[n][1]\n",
    "                neu = sentiments[n][2]\n",
    "                pos= sentiments[n][3]\n",
    "                compound = sentiments[n][4]\n",
    "                a.writerow([newUser,neg,neu,pos])\n",
    "        \n",
    "    "
   ]
  }
 ],
 "metadata": {
  "kernelspec": {
   "display_name": "Python 2",
   "language": "python",
   "name": "python2"
  },
  "language_info": {
   "codemirror_mode": {
    "name": "ipython",
    "version": 2
   },
   "file_extension": ".py",
   "mimetype": "text/x-python",
   "name": "python",
   "nbconvert_exporter": "python",
   "pygments_lexer": "ipython2",
   "version": "2.7.10"
  }
 },
 "nbformat": 4,
 "nbformat_minor": 0
}
