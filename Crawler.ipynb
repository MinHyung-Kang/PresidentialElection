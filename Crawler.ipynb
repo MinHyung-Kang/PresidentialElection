{
 "cells": [
  {
   "cell_type": "markdown",
   "metadata": {},
   "source": [
    "### Basic Setup"
   ]
  },
  {
   "cell_type": "markdown",
   "metadata": {},
   "source": [
    "#### Authentication"
   ]
  },
  {
   "cell_type": "code",
   "execution_count": 1,
   "metadata": {
    "collapsed": true
   },
   "outputs": [],
   "source": [
    "import requests\n",
    "from requests_oauthlib import OAuth1\n",
    "import urllib\n",
    "auth = OAuth1('uFgL5vbME7Gi8Zv6uCO3g',\n",
    "           'PN9g4sbyTh67n2WQmYJvMPrFwbyeKG9UjCjiA2qlnGI',\n",
    "           '884076750-EuiDLe8HzbPNk5G9aI1XE12qh8Bs1pIsgHi02ipx',\n",
    "           '1yWYyLmsHTrenvvYGqZOq26lT0vzWWsbgk6T3cknx3Q')"
   ]
  },
  {
   "cell_type": "markdown",
   "metadata": {},
   "source": [
    "#### URL Encoding"
   ]
  },
  {
   "cell_type": "code",
   "execution_count": 2,
   "metadata": {
    "collapsed": false
   },
   "outputs": [
    {
     "name": "stdout",
     "output_type": "stream",
     "text": [
      "q=Donald+Trump&count=100\n"
     ]
    }
   ],
   "source": [
    "searchQuery = urllib.urlencode({'q':'Donald Trump','count':100})\n",
    "\n",
    "print searchQuery"
   ]
  },
  {
   "cell_type": "markdown",
   "metadata": {},
   "source": [
    "### Functions to be used for scraping"
   ]
  },
  {
   "cell_type": "code",
   "execution_count": 3,
   "metadata": {
    "collapsed": false
   },
   "outputs": [],
   "source": [
    "def getRow(status, row ):\n",
    "    row = getBasicInfo(status, row)\n",
    "    row = getEntities(status, row)\n",
    "    row = getUser(status, row)\n",
    "    row = getOriginalStats(status, row)\n",
    "    row = getOriginalUser(status, row)\n",
    "    return row;"
   ]
  },
  {
   "cell_type": "code",
   "execution_count": 4,
   "metadata": {
    "collapsed": true
   },
   "outputs": [],
   "source": [
    "#Functions related to basic information\n",
    "\n",
    "def getBasicInfo( status , row ):\n",
    "    created_at = status['created_at']\n",
    "    tweet_id = status['id_str']\n",
    "    retweet_count = status['retweet_count']\n",
    "    reply_user_id = status['in_reply_to_user_id_str']\n",
    "    reply_status_id = status['in_reply_to_status_id_str']\n",
    "    text = status['text']\n",
    "    \n",
    "    row.append(created_at)\n",
    "    row.append(tweet_id)\n",
    "    row.append(retweet_count)\n",
    "    row.append(reply_user_id)\n",
    "    row.append(reply_status_id)\n",
    "    row.append(text)\n",
    "    \n",
    "    return row"
   ]
  },
  {
   "cell_type": "code",
   "execution_count": 5,
   "metadata": {
    "collapsed": true
   },
   "outputs": [],
   "source": [
    "#Functions related to entities\n",
    "\n",
    "def getEntities( status , row):\n",
    "    tags = getHashTags(status['entities'])\n",
    "    ids, names = getMentionedUser(status['entities'])\n",
    "    row.append(tags)\n",
    "    row.append(ids)\n",
    "    row.append(names)\n",
    "    return row\n",
    "\n",
    "def getHashTags( entity ):\n",
    "    count = len(entity['hashtags'])\n",
    "    tags = []\n",
    "    for i in range(0, count):\n",
    "        tags.append(entity['hashtags'][i]['text'])\n",
    "    return tags \n",
    "\n",
    "\n",
    "def getMentionedUser( entity ):\n",
    "    count = len(entity['user_mentions'])\n",
    "    ids = []\n",
    "    names = []\n",
    "    for i in range(0, count):\n",
    "        ids.append(entity['user_mentions'][i]['id_str'])\n",
    "        names.append(entity['user_mentions'][i]['name'])\n",
    "    return ids, names \n"
   ]
  },
  {
   "cell_type": "code",
   "execution_count": 6,
   "metadata": {
    "collapsed": true
   },
   "outputs": [],
   "source": [
    "#Functions related to user\n",
    "\n",
    "def getUser( status , row ):\n",
    "    user = status['user'];\n",
    "    user_id = user['id_str']\n",
    "    name = user['name']\n",
    "    screen_name = user['screen_name']\n",
    "    friends_count = user['friends_count']\n",
    "    followers_count = user['followers_count']\n",
    "    statuses_count = user['statuses_count']\n",
    "    \n",
    "    row.append(user_id)\n",
    "    row.append(name)\n",
    "    row.append(screen_name)\n",
    "    row.append(friends_count)\n",
    "    row.append(followers_count)\n",
    "    row.append(statuses_count)\n",
    "    \n",
    "    return row"
   ]
  },
  {
   "cell_type": "code",
   "execution_count": 7,
   "metadata": {
    "collapsed": true
   },
   "outputs": [],
   "source": [
    "#Functions related to original tweet (if current tweet is retweet)\n",
    "\n",
    "def getOriginalStats( status , row):\n",
    "    ori_created_at = ''\n",
    "    ori_tweet_id = ''\n",
    "    ori_retweet_count = ''\n",
    "    if 'retweeted_status' in status:\n",
    "        retweet_status = status['retweeted_status']\n",
    "        ori_created_at = retweet_status['created_at']\n",
    "        ori_tweet_id = retweet_status['id_str']\n",
    "        ori_retweet_count = retweet_status['retweet_count']\n",
    "    row.append(ori_created_at)\n",
    "    row.append(ori_tweet_id)\n",
    "    row.append(ori_retweet_count)\n",
    "    return row\n",
    "\n",
    "def getOriginalUser( status , row):\n",
    "    ori_user_id = ''\n",
    "    ori_name = ''\n",
    "    ori_screen_name = ''\n",
    "    ori_friends_count = ''\n",
    "    ori_followers_count = ''\n",
    "    ori_statuses_count = ''\n",
    "    if 'retweeted_status' in status:\n",
    "        retweet_user = status['retweeted_status']['user']\n",
    "        ori_user_id = retweet_user['id_str']\n",
    "        ori_name = retweet_user['name']\n",
    "        ori_screen_name = retweet_user['screen_name']\n",
    "        ori_friends_count = retweet_user['friends_count']\n",
    "        ori_followers_count = retweet_user['followers_count']\n",
    "        ori_statuses_count = retweet_user['statuses_count']\n",
    "    \n",
    "    row.append(ori_user_id)\n",
    "    row.append(ori_name)\n",
    "    row.append(ori_screen_name)\n",
    "    row.append(ori_friends_count) \n",
    "    row.append(ori_followers_count)\n",
    "    row.append(ori_statuses_count)\n",
    "    return row\n"
   ]
  },
  {
   "cell_type": "markdown",
   "metadata": {},
   "source": [
    "### Scraping"
   ]
  },
  {
   "cell_type": "markdown",
   "metadata": {},
   "source": [
    "#### Set encoding to prevent error"
   ]
  },
  {
   "cell_type": "code",
   "execution_count": 8,
   "metadata": {
    "collapsed": true
   },
   "outputs": [],
   "source": [
    "import sys\n",
    "reload(sys)\n",
    "sys.setdefaultencoding('utf-8')"
   ]
  },
  {
   "cell_type": "markdown",
   "metadata": {},
   "source": [
    "#### Import Libraries"
   ]
  },
  {
   "cell_type": "code",
   "execution_count": 9,
   "metadata": {
    "collapsed": true
   },
   "outputs": [],
   "source": [
    "# import libraries\n",
    "import json\n",
    "import unicodecsv as csv\n",
    "import time\n",
    "from random import randint\n",
    "import datetime\n",
    "import codecs"
   ]
  },
  {
   "cell_type": "markdown",
   "metadata": {},
   "source": [
    "#### Set Search Query"
   ]
  },
  {
   "cell_type": "code",
   "execution_count": 10,
   "metadata": {
    "collapsed": false
   },
   "outputs": [],
   "source": [
    "query = 'Donald Trump'\n",
    "\n",
    "searchQuery = urllib.urlencode({'q':query,'count':100})\n",
    "fileQuery = query.replace(' ','')"
   ]
  },
  {
   "cell_type": "code",
   "execution_count": 11,
   "metadata": {
    "collapsed": false
   },
   "outputs": [],
   "source": [
    "startTime = datetime.datetime.strftime(datetime.datetime.now(), '%Y_%m_%d-%H_%M_%S')\n",
    "fileName = \"./Data/%s(%s).csv\" % (fileQuery, startTime)\n",
    "indexFileName = \"./Data/%s(%s)Query.csv\" % (fileQuery, startTime)"
   ]
  },
  {
   "cell_type": "code",
   "execution_count": 12,
   "metadata": {
    "collapsed": false
   },
   "outputs": [],
   "source": [
    "labels = ['created_at', 'tweet_id', 'retweet_count', 'reply_user_id', 'reply_status_id', 'text', 'tags', 'ids', 'names',\n",
    "    'user_id', 'name', 'screen_name', 'friends_count', 'followers_count', 'statuses_count',   \n",
    "    'ori_created_at', 'ori_tweet_id', 'ori_retweet_count', 'ori_user_id', \n",
    "    'ori_name', 'ori_screen_name', 'ori_friends_count', 'ori_followers_count', 'ori_statuses_count']"
   ]
  },
  {
   "cell_type": "code",
   "execution_count": null,
   "metadata": {
    "collapsed": false
   },
   "outputs": [],
   "source": [
    "url = 'https://api.twitter.com/1.1/search/tweets.json?' + searchQuery\n",
    "response = requests.get(url, auth=auth)\n",
    "\n",
    "\n",
    "# Write the label\n",
    "with codecs.open(fileName, 'ab','utf-8') as fp:\n",
    "    a = csv.writer(fp, delimiter=',')\n",
    "    a.writerow(labels)\n",
    "\n",
    "nTrial = 10000\n",
    "subTrial = 0;\n",
    "for trial in range(1,nTrial+1):\n",
    "    print \"At trial\", trial\n",
    "    \n",
    "    \n",
    "    data = response.json()\n",
    "    \n",
    "    # Save the data to a list\n",
    "    try : \n",
    "        rows=[]\n",
    "        for i in range(1,len(data['statuses'])):\n",
    "            tweet = data['statuses'][i]\n",
    "            row = []\n",
    "            row = getRow(tweet, row)\n",
    "            rows.append(row)\n",
    "    except : \n",
    "        if subTrial == 3 : \n",
    "            break;\n",
    "        else : \n",
    "            print 'Error raised at List Creating Stage, subTrial %d' %subTrial\n",
    "            subTrial += 1\n",
    "            time.sleep(20)\n",
    "            continue;\n",
    "            \n",
    "    try : \n",
    "        with codecs.open(fileName, 'ab','utf-8') as fp:\n",
    "            a = csv.writer(fp, delimiter=',')\n",
    "            for row in rows:\n",
    "                a.writerow(row)\n",
    "    except : \n",
    "        if subTrial == 3 : \n",
    "            break;\n",
    "        else : \n",
    "            print 'Error raised at Data Writing Stage, subTrial %d' %subTrial\n",
    "            subTrial += 1\n",
    "            time.sleep(20)\n",
    "            continue;\n",
    "            \n",
    "    last_Index = len(data['statuses'])-1\n",
    "    last_minId = str(data['statuses'][last_Index]['id_str'])\n",
    "    idQuery = urllib.urlencode({'max_id':last_minId})       \n",
    "            \n",
    "    #Note how far we have searched\n",
    "    with open(indexFileName, \"ab\") as q:\n",
    "        t = datetime.datetime.strftime(datetime.datetime.now(), '%Y-%m-%d %H:%M:%S')\n",
    "        q.write(t + ' : ' +  'Searched up to ' + last_minId + '\\n')\n",
    "        \n",
    "    subTrial = 0        \n",
    "    time.sleep(randint(61,70))\n",
    "    response = requests.get('https://api.twitter.com/1.1/search/tweets.json?'+searchQuery+'&'+idQuery, auth=auth)"
   ]
  },
  {
   "cell_type": "markdown",
   "metadata": {},
   "source": [
    "####  Starting again after lost connection"
   ]
  },
  {
   "cell_type": "code",
   "execution_count": 10,
   "metadata": {
    "collapsed": true
   },
   "outputs": [],
   "source": [
    "query = 'Donald Trump'\n",
    "searchQuery = urllib.urlencode({'q':query,'count':100})\n",
    "\n",
    "fileName = './Data/DonaldTrump(2016_01_30-12_45_19).csv'\n",
    "indexFileName = './Data/DonaldTrump(2016_01_30-12_45_19)Query.csv'\n",
    "startTrial = 5150\n",
    "last_minId =  '692595693689663488'\n",
    "idQuery = urllib.urlencode({'max_id':last_minId})       \n"
   ]
  },
  {
   "cell_type": "code",
   "execution_count": null,
   "metadata": {
    "collapsed": false
   },
   "outputs": [],
   "source": [
    "response = requests.get('https://api.twitter.com/1.1/search/tweets.json?'+searchQuery+'&'+idQuery, auth=auth)\n",
    "\n",
    "nTrial = 10000\n",
    "subTrial = 0;\n",
    "for trial in range(startTrial,nTrial+1):\n",
    "    print \"At trial %d for query %s\" % (trial, searchQuery)\n",
    "    \n",
    "    data = response.json()\n",
    "    \n",
    "    # Save the data to a list\n",
    "    try : \n",
    "        rows=[]\n",
    "        for i in range(1,len(data['statuses'])):\n",
    "            tweet = data['statuses'][i]\n",
    "            row = []\n",
    "            row = getRow(tweet, row)\n",
    "            rows.append(row)\n",
    "    except : \n",
    "        if subTrial == 3 : \n",
    "            break;\n",
    "        else : \n",
    "            print 'Error raised at List Creating Stage, subTrial %d' %subTrial\n",
    "            subTrial += 1\n",
    "            time.sleep(20)\n",
    "            continue;\n",
    "            \n",
    "    try : \n",
    "        with codecs.open(fileName, 'ab','utf-8') as fp:\n",
    "            a = csv.writer(fp, delimiter=',')\n",
    "            for row in rows:\n",
    "                a.writerow(row)\n",
    "    except : \n",
    "        if subTrial == 3 : \n",
    "            break;\n",
    "        else : \n",
    "            print 'Error raised at Data Writing Stage, subTrial %d' %subTrial\n",
    "            subTrial += 1\n",
    "            time.sleep(20)\n",
    "            continue;\n",
    "            \n",
    "    last_Index = len(data['statuses'])-1\n",
    "    last_minId = str(data['statuses'][last_Index]['id_str'])\n",
    "    idQuery = urllib.urlencode({'max_id':last_minId})       \n",
    "            \n",
    "    #Note how far we have searched\n",
    "    with open(indexFileName, \"ab\") as q:\n",
    "        t = datetime.datetime.strftime(datetime.datetime.now(), '%Y-%m-%d %H:%M:%S')\n",
    "        q.write(t + ' : ' +  'Searched up to ' + last_minId + '\\n')\n",
    "        \n",
    "    subTrial = 0        \n",
    "    time.sleep(randint(61,70))\n",
    "    response = requests.get('https://api.twitter.com/1.1/search/tweets.json?'+searchQuery+'&'+idQuery, auth=auth)"
   ]
  },
  {
   "cell_type": "code",
   "execution_count": 78,
   "metadata": {
    "collapsed": false
   },
   "outputs": [
    {
     "data": {
      "text/plain": [
       "99"
      ]
     },
     "execution_count": 78,
     "metadata": {},
     "output_type": "execute_result"
    }
   ],
   "source": [
    "len(data['statuses'])"
   ]
  },
  {
   "cell_type": "code",
   "execution_count": 52,
   "metadata": {
    "collapsed": false
   },
   "outputs": [
    {
     "data": {
      "text/plain": [
       "{u'contributors': None,\n",
       " u'coordinates': None,\n",
       " u'created_at': u'Sat Jan 30 02:55:28 +0000 2016',\n",
       " u'entities': {u'hashtags': [],\n",
       "  u'symbols': [],\n",
       "  u'urls': [{u'display_url': u'nationalreview.com/article/430468\\u2026',\n",
       "    u'expanded_url': u'http://www.nationalreview.com/article/430468/donald-trump-what-if-he-wins?utm_campaign=trueAnthem%3A+Trending+Content&utm_content=56ab862d04d3015013dd7c6f&utm_medium=trueAnthem&utm_source=twitter',\n",
       "    u'indices': [125, 140],\n",
       "    u'url': u'https://t.co/HnYTqoB0va'}],\n",
       "  u'user_mentions': [{u'id': 17561562,\n",
       "    u'id_str': u'17561562',\n",
       "    u'indices': [3, 9],\n",
       "    u'name': u'slone',\n",
       "    u'screen_name': u'slone'},\n",
       "   {u'id': 25073877,\n",
       "    u'id_str': u'25073877',\n",
       "    u'indices': [97, 113],\n",
       "    u'name': u'Donald J. Trump',\n",
       "    u'screen_name': u'realDonaldTrump'}]},\n",
       " u'favorite_count': 0,\n",
       " u'favorited': False,\n",
       " u'geo': None,\n",
       " u'id': 693266250265337857L,\n",
       " u'id_str': u'693266250265337857',\n",
       " u'in_reply_to_screen_name': None,\n",
       " u'in_reply_to_status_id': None,\n",
       " u'in_reply_to_status_id_str': None,\n",
       " u'in_reply_to_user_id': None,\n",
       " u'in_reply_to_user_id_str': None,\n",
       " u'is_quote_status': False,\n",
       " u'lang': u'en',\n",
       " u'metadata': {u'iso_language_code': u'en', u'result_type': u'recent'},\n",
       " u'place': None,\n",
       " u'possibly_sensitive': False,\n",
       " u'retweet_count': 3,\n",
       " u'retweeted': False,\n",
       " u'retweeted_status': {u'contributors': None,\n",
       "  u'coordinates': None,\n",
       "  u'created_at': u'Sat Jan 30 01:57:14 +0000 2016',\n",
       "  u'entities': {u'hashtags': [],\n",
       "   u'symbols': [],\n",
       "   u'urls': [{u'display_url': u'nationalreview.com/article/430468\\u2026',\n",
       "     u'expanded_url': u'http://www.nationalreview.com/article/430468/donald-trump-what-if-he-wins?utm_campaign=trueAnthem%3A+Trending+Content&utm_content=56ab862d04d3015013dd7c6f&utm_medium=trueAnthem&utm_source=twitter',\n",
       "     u'indices': [114, 137],\n",
       "     u'url': u'https://t.co/HnYTqoB0va'}],\n",
       "   u'user_mentions': [{u'id': 25073877,\n",
       "     u'id_str': u'25073877',\n",
       "     u'indices': [86, 102],\n",
       "     u'name': u'Donald J. Trump',\n",
       "     u'screen_name': u'realDonaldTrump'}]},\n",
       "  u'favorite_count': 6,\n",
       "  u'favorited': False,\n",
       "  u'geo': None,\n",
       "  u'id': 693251593941155840L,\n",
       "  u'id_str': u'693251593941155840',\n",
       "  u'in_reply_to_screen_name': None,\n",
       "  u'in_reply_to_status_id': None,\n",
       "  u'in_reply_to_status_id_str': None,\n",
       "  u'in_reply_to_user_id': None,\n",
       "  u'in_reply_to_user_id_str': None,\n",
       "  u'is_quote_status': False,\n",
       "  u'lang': u'en',\n",
       "  u'metadata': {u'iso_language_code': u'en', u'result_type': u'recent'},\n",
       "  u'place': None,\n",
       "  u'possibly_sensitive': False,\n",
       "  u'retweet_count': 3,\n",
       "  u'retweeted': False,\n",
       "  u'source': u'<a href=\"http://twitter.com\" rel=\"nofollow\">Twitter Web Client</a>',\n",
       "  u'text': u'CONSERVATIVES BIGGEST FEAR: Even more terrifying for cons is prospect of a SUCCESSFUL @realDonaldTrump presidency https://t.co/HnYTqoB0va',\n",
       "  u'truncated': False,\n",
       "  u'user': {u'contributors_enabled': False,\n",
       "   u'created_at': u'Sat Nov 22 19:28:30 +0000 2008',\n",
       "   u'default_profile': False,\n",
       "   u'default_profile_image': False,\n",
       "   u'description': u'Circumstances do not make the man, they reveal him.  James Allen \\n\\n\\u2721PRO-ISRAEL\\u2721 BIG TENT GOP\\n\\nPROTIP: Solutions NOT temper tantrums',\n",
       "   u'entities': {u'description': {u'urls': []},\n",
       "    u'url': {u'urls': [{u'display_url': u'twitter.com/slone',\n",
       "       u'expanded_url': u'http://twitter.com/slone',\n",
       "       u'indices': [0, 22],\n",
       "       u'url': u'http://t.co/w26P3v6Agw'}]}},\n",
       "   u'favourites_count': 749,\n",
       "   u'follow_request_sent': False,\n",
       "   u'followers_count': 37231,\n",
       "   u'following': False,\n",
       "   u'friends_count': 171,\n",
       "   u'geo_enabled': False,\n",
       "   u'has_extended_profile': False,\n",
       "   u'id': 17561562,\n",
       "   u'id_str': u'17561562',\n",
       "   u'is_translation_enabled': False,\n",
       "   u'is_translator': False,\n",
       "   u'lang': u'en',\n",
       "   u'listed_count': 1242,\n",
       "   u'location': u'\\u2661 Right where God wants me \\u2661',\n",
       "   u'name': u'slone',\n",
       "   u'notifications': False,\n",
       "   u'profile_background_color': u'14ABD1',\n",
       "   u'profile_background_image_url': u'http://pbs.twimg.com/profile_background_images/643716555/njfp1jpm8e1ugp09b308.jpeg',\n",
       "   u'profile_background_image_url_https': u'https://pbs.twimg.com/profile_background_images/643716555/njfp1jpm8e1ugp09b308.jpeg',\n",
       "   u'profile_background_tile': True,\n",
       "   u'profile_banner_url': u'https://pbs.twimg.com/profile_banners/17561562/1352475561',\n",
       "   u'profile_image_url': u'http://pbs.twimg.com/profile_images/3678674575/20f7255c8da5684e83d5347b4ffeb290_normal.jpeg',\n",
       "   u'profile_image_url_https': u'https://pbs.twimg.com/profile_images/3678674575/20f7255c8da5684e83d5347b4ffeb290_normal.jpeg',\n",
       "   u'profile_link_color': u'17B6D6',\n",
       "   u'profile_sidebar_border_color': u'31C9CC',\n",
       "   u'profile_sidebar_fill_color': u'9C8C77',\n",
       "   u'profile_text_color': u'786A4A',\n",
       "   u'profile_use_background_image': True,\n",
       "   u'protected': False,\n",
       "   u'screen_name': u'slone',\n",
       "   u'statuses_count': 248247,\n",
       "   u'time_zone': u'Eastern Time (US & Canada)',\n",
       "   u'url': u'http://t.co/w26P3v6Agw',\n",
       "   u'utc_offset': -18000,\n",
       "   u'verified': False}},\n",
       " u'source': u'<a href=\"http://twitter.com/download/android\" rel=\"nofollow\">Twitter for Android</a>',\n",
       " u'text': u'RT @slone: CONSERVATIVES BIGGEST FEAR: Even more terrifying for cons is prospect of a SUCCESSFUL @realDonaldTrump presidency https://t.co/H\\u2026',\n",
       " u'truncated': False,\n",
       " u'user': {u'contributors_enabled': False,\n",
       "  u'created_at': u'Thu Jan 17 03:01:32 +0000 2013',\n",
       "  u'default_profile': True,\n",
       "  u'default_profile_image': False,\n",
       "  u'description': u'Conservative, ex military, soccer loving speaker of the truth and friend to all hardworking people',\n",
       "  u'entities': {u'description': {u'urls': []}},\n",
       "  u'favourites_count': 19460,\n",
       "  u'follow_request_sent': False,\n",
       "  u'followers_count': 3323,\n",
       "  u'following': False,\n",
       "  u'friends_count': 3340,\n",
       "  u'geo_enabled': True,\n",
       "  u'has_extended_profile': False,\n",
       "  u'id': 1097027300,\n",
       "  u'id_str': u'1097027300',\n",
       "  u'is_translation_enabled': False,\n",
       "  u'is_translator': False,\n",
       "  u'lang': u'en',\n",
       "  u'listed_count': 74,\n",
       "  u'location': u'Texas',\n",
       "  u'name': u'Ron',\n",
       "  u'notifications': False,\n",
       "  u'profile_background_color': u'C0DEED',\n",
       "  u'profile_background_image_url': u'http://abs.twimg.com/images/themes/theme1/bg.png',\n",
       "  u'profile_background_image_url_https': u'https://abs.twimg.com/images/themes/theme1/bg.png',\n",
       "  u'profile_background_tile': False,\n",
       "  u'profile_banner_url': u'https://pbs.twimg.com/profile_banners/1097027300/1383490393',\n",
       "  u'profile_image_url': u'http://pbs.twimg.com/profile_images/3592075888/9e7b48b2061ca73a8f5995843074e2b7_normal.jpeg',\n",
       "  u'profile_image_url_https': u'https://pbs.twimg.com/profile_images/3592075888/9e7b48b2061ca73a8f5995843074e2b7_normal.jpeg',\n",
       "  u'profile_link_color': u'0084B4',\n",
       "  u'profile_sidebar_border_color': u'C0DEED',\n",
       "  u'profile_sidebar_fill_color': u'DDEEF6',\n",
       "  u'profile_text_color': u'333333',\n",
       "  u'profile_use_background_image': True,\n",
       "  u'protected': False,\n",
       "  u'screen_name': u'TH3R34LTRUTH',\n",
       "  u'statuses_count': 37360,\n",
       "  u'time_zone': None,\n",
       "  u'url': None,\n",
       "  u'utc_offset': None,\n",
       "  u'verified': False}}"
      ]
     },
     "execution_count": 52,
     "metadata": {},
     "output_type": "execute_result"
    }
   ],
   "source": [
    "data['statuses'][99]"
   ]
  },
  {
   "cell_type": "code",
   "execution_count": 16,
   "metadata": {
    "collapsed": false
   },
   "outputs": [],
   "source": [
    "with codecs.open(fileName, 'rb') as csvfileRead:\n",
    "    reader = csv.reader(csvfileRead, delimiter=',')\n",
    "    i = 0\n",
    "    for row in reader:\n",
    "        if i> 100000 : \n",
    "            print row[0]\n",
    "            break\n",
    "        i = i +1"
   ]
  }
 ],
 "metadata": {
  "kernelspec": {
   "display_name": "Python 2",
   "language": "python",
   "name": "python2"
  },
  "language_info": {
   "codemirror_mode": {
    "name": "ipython",
    "version": 2
   },
   "file_extension": ".py",
   "mimetype": "text/x-python",
   "name": "python",
   "nbconvert_exporter": "python",
   "pygments_lexer": "ipython2",
   "version": "2.7.10"
  }
 },
 "nbformat": 4,
 "nbformat_minor": 0
}
